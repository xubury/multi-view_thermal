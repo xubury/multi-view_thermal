{
 "cells": [
  {
   "cell_type": "code",
   "execution_count": 1,
   "metadata": {},
   "outputs": [
    {
     "name": "stdout",
     "output_type": "stream",
     "text": [
      "Running thermal images calibration...\n",
      "Done!\n",
      "Running visual images calibration...\n",
      "Done!\n",
      "thermal K (homogeneous):\n",
      "[[1.18278587e+03 0.00000000e+00 3.25845282e+02 0.00000000e+00]\n",
      " [0.00000000e+00 1.18488509e+03 2.92832696e+02 0.00000000e+00]\n",
      " [0.00000000e+00 0.00000000e+00 1.00000000e+00 0.00000000e+00]\n",
      " [0.00000000e+00 0.00000000e+00 0.00000000e+00 1.00000000e+00]]\n",
      "visual K (homogeneous):\n",
      "[[679.51382747   0.         310.82507954   0.        ]\n",
      " [  0.         678.26769987 267.96149053   0.        ]\n",
      " [  0.           0.           1.           0.        ]\n",
      " [  0.           0.           0.           1.        ]]\n",
      "thermal Rt[0]:\n",
      "[[ 9.38271289e-01  6.33995685e-03  3.45842149e-01 -4.25791619e+00]\n",
      " [ 4.41330768e-02  9.89466303e-01 -1.37872069e-01 -5.51787964e+00]\n",
      " [-3.43073256e-01  1.44624482e-01  9.28108022e-01  4.30063772e+01]\n",
      " [ 0.00000000e+00  0.00000000e+00  0.00000000e+00  1.00000000e+00]]\n",
      "visual Rt[0]:\n",
      "[[ 9.47708975e-01 -6.65452286e-03  3.19066476e-01 -1.00891499e+01]\n",
      " [ 4.31868629e-02  9.93260119e-01 -1.07560361e-01 -4.73086210e+00]\n",
      " [-3.16200243e-01  1.15715400e-01  9.41608917e-01  4.21844889e+01]\n",
      " [ 0.00000000e+00  0.00000000e+00  0.00000000e+00  1.00000000e+00]]\n",
      "W martix:\n",
      "[[ 1.72541664e+00  3.07091189e-02 -1.83841030e+02  5.68918068e+03]\n",
      " [-2.81711443e-02  1.75863535e+00 -2.04605743e+02  6.26853739e+02]\n",
      " [-4.41019053e-05  4.27645871e-05  1.00137863e+00  6.93464733e-01]\n",
      " [ 0.00000000e+00  0.00000000e+00  0.00000000e+00  1.00000000e+00]]\n"
     ]
    }
   ],
   "source": [
    "import img_glob\n",
    "import matching\n",
    "import os\n",
    "import shutil\n",
    "import re\n",
    "\n",
    "\n",
    "mve_entris = img_glob.get_mve_views_entries(\"E:/normal-img/scene/views\")\n",
    "\n",
    "thermal_images_list = img_glob.search_files_by_time(\"E:/recon_image/11-7/thermal/4\", \"*.jpg\")\n",
    "\n",
    "for idx, name in enumerate(thermal_images_list):\n",
    "    for filename in os.listdir(mve_entris[idx]):\n",
    "        if re.search(\"smvs-B[0-9].jpg\", filename):\n",
    "            dst_file_name = os.path.join(mve_entris[idx], \"thermal.jpg\")\n",
    "            #  shutil.copyfile(name, dst_file_name)\n",
    "#             print(\"Copying \" + name + \" to \" + dst_file_name)\n",
    "            break\n",
    "\n",
    "\n",
    "matcher = matching.Matching(4)\n",
    "\n"
   ]
  },
  {
   "cell_type": "code",
   "execution_count": 2,
   "metadata": {},
   "outputs": [],
   "source": [
    "\n",
    "\n",
    "for mve_view_dir in mve_entris:\n",
    "    for filename in os.listdir(mve_view_dir):\n",
    "        if re.search(\"smvs-image-B[0-9].\", filename):\n",
    "            dm_name = os.path.join(mve_view_dir, filename)\n",
    "            visual_name = os.path.join(mve_view_dir, \"undist-L2.png\")\n",
    "            thermal_name = os.path.join(mve_view_dir, \"thermal.jpg\")\n",
    "            output_name = os.path.join(mve_view_dir, \"merged.jpg\")\n",
    "            output_name2 = os.path.join(mve_view_dir, \"merged2.jpg\")\n",
    "            matcher.match_thermal_to_visual(visual_name, thermal_name, dm_name, output_name, output_name2)\n",
    "            break"
   ]
  },
  {
   "cell_type": "code",
   "execution_count": 33,
   "metadata": {},
   "outputs": [
    {
     "name": "stdout",
     "output_type": "stream",
     "text": [
      "b'\\x89MVE_IMAGE\\n'\n",
      "(613, 513, 1, 9)\n"
     ]
    }
   ],
   "source": [
    "import struct\n",
    "with open(\"E:/normal-img/scene/views/view_0001.mve/smvs-B2.mvei\", \"rb\") as file:\n",
    "    print(file.read(11)) #mvei signature\n",
    "    # Do stuff with byte.\n",
    "    header = struct.unpack('i' * 4, file.read(4 * 4))\n",
    "    print(header)\n",
    "    n =  header[0] * header[1]\n",
    "    temp = struct.unpack('f' * n, file.read(n * 4))\n"
   ]
  },
  {
   "cell_type": "code",
   "execution_count": 36,
   "metadata": {},
   "outputs": [
    {
     "name": "stdout",
     "output_type": "stream",
     "text": [
      "[[  0.   1.   2. ... 610. 611. 612.]\n",
      " [  0.   0.   0. ... 512. 512. 512.]\n",
      " [  0.   0.   0. ...   0.   0.   0.]\n",
      " [  0.   0.   0. ...   0.   0.   0.]]\n"
     ]
    }
   ],
   "source": [
    "import numpy as np\n",
    "visual_image_pos = np.zeros((4, width * height), np.float32)\n",
    "visual_image_pos[0,:] = np.tile(np.arange(width),height)\n",
    "visual_image_pos[1,:] = np.repeat(np.arange(height),width)\n",
    "print(visual_image_pos)"
   ]
  },
  {
   "cell_type": "code",
   "execution_count": 2,
   "metadata": {},
   "outputs": [
    {
     "name": "stdout",
     "output_type": "stream",
     "text": [
      "[1. 1. 1. ... 1. 1. 1.]\n",
      "(314469,)\n"
     ]
    }
   ],
   "source": [
    "import img_glob\n",
    "import cv2\n",
    "import numpy as np\n",
    "depth_img, dp_width, dp_height = img_glob.read_mvei_file(\"E:/normal-img/scene/views/view_0000.mve/smvs-B2.mvei\")\n",
    "\n",
    "#  depth_img = cv2.resize(depth_img, (width, height))\n",
    "\n",
    "depth_img.reshape((dp_width, dp_height, 1))\n",
    "depth_img[depth_img == 0] = 1\n",
    "\n",
    "print(depth_img)\n",
    "print(depth_img.shape)\n",
    "cv2.imshow(\"depth\", depth_img)\n",
    "cv2.waitKey(0)\n",
    "cv2.destroyAllWindows()\n"
   ]
  },
  {
   "cell_type": "code",
   "execution_count": null,
   "metadata": {},
   "outputs": [],
   "source": []
  }
 ],
 "metadata": {
  "kernelspec": {
   "display_name": "Python 3",
   "language": "python",
   "name": "python3"
  },
  "language_info": {
   "codemirror_mode": {
    "name": "ipython",
    "version": 3
   },
   "file_extension": ".py",
   "mimetype": "text/x-python",
   "name": "python",
   "nbconvert_exporter": "python",
   "pygments_lexer": "ipython3",
   "version": "3.8.3"
  }
 },
 "nbformat": 4,
 "nbformat_minor": 4
}
