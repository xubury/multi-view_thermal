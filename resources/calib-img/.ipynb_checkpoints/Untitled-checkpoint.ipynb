{
 "cells": [
  {
   "cell_type": "code",
   "execution_count": 34,
   "metadata": {},
   "outputs": [
    {
     "name": "stdout",
     "output_type": "stream",
     "text": [
      "Running thermal images calibration...\n",
      "Done!\n",
      "Running visual images calibration...\n",
      "no circle found.\n",
      "Done!\n",
      "thermal K (homogeneous):\n",
      "[[1.18278587e+03 0.00000000e+00 3.25845282e+02 0.00000000e+00]\n",
      " [0.00000000e+00 1.18488509e+03 2.92832696e+02 0.00000000e+00]\n",
      " [0.00000000e+00 0.00000000e+00 1.00000000e+00 0.00000000e+00]\n",
      " [0.00000000e+00 0.00000000e+00 0.00000000e+00 1.00000000e+00]]\n",
      "visual K (homogeneous):\n",
      "[[2.71610329e+03 0.00000000e+00 1.24552372e+03 0.00000000e+00]\n",
      " [0.00000000e+00 2.71061816e+03 1.06842200e+03 0.00000000e+00]\n",
      " [0.00000000e+00 0.00000000e+00 1.00000000e+00 0.00000000e+00]\n",
      " [0.00000000e+00 0.00000000e+00 0.00000000e+00 1.00000000e+00]]\n",
      "thermal Rt[0]:\n",
      "[[ 9.38271289e-01  6.33995685e-03  3.45842149e-01 -4.25791619e+00]\n",
      " [ 4.41330768e-02  9.89466303e-01 -1.37872069e-01 -5.51787964e+00]\n",
      " [-3.43073256e-01  1.44624482e-01  9.28108022e-01  4.30063772e+01]\n",
      " [ 0.00000000e+00  0.00000000e+00  0.00000000e+00  1.00000000e+00]]\n",
      "visual Rt[0]:\n",
      "[[ 9.47708975e-01 -6.65452286e-03  3.19066476e-01 -1.00891499e+01]\n",
      " [ 4.31868629e-02  9.93260119e-01 -1.07560361e-01 -4.73086210e+00]\n",
      " [-3.16200243e-01  1.15715400e-01  9.41608917e-01  4.21844889e+01]\n",
      " [ 0.00000000e+00  0.00000000e+00  0.00000000e+00  1.00000000e+00]]\n"
     ]
    }
   ],
   "source": [
    "import numpy as np\n",
    "import cv2\n",
    "import calibration\n",
    "import utils\n",
    "\n",
    "# calculate the transform from L to R\n",
    "def calculate_W_L_to_R(K_l, Rt_l, K_r, Rt_r):\n",
    "    W = K_r * Rt_r * Rt_l.I * K_l.I\n",
    "    return np.matrix(W)\n",
    "\n",
    "calibrator = calibration.ThermalVisualCalibrator(\"thermal-img\", \"normal-img\", (3, 9), 2, 1)\n",
    "\n",
    "calibrator.StartCalibration()\n",
    "utils.undistort_image(\"normal-img\", calibrator.visual_images_list, calibrator.visual_K, calibrator.visual_dist)\n",
    "utils.undistort_image(\"thermal-img\", calibrator.thermal_images_list, calibrator.thermal_K, calibrator.thermal_dist)\n",
    "\n",
    "print(\"thermal K (homogeneous):\")\n",
    "print(calibrator.thermal_K_homo)\n",
    "print(\"visual K (homogeneous):\")\n",
    "print(calibrator.visual_K_homo)\n",
    "\n",
    "print(\"thermal Rt[0]:\")\n",
    "print(calibrator.thermal_Rt[0])\n",
    "print(\"visual Rt[0]:\")\n",
    "print(calibrator.visual_Rt[0])\n"
   ]
  },
  {
   "cell_type": "code",
   "execution_count": 38,
   "metadata": {},
   "outputs": [
    {
     "name": "stdout",
     "output_type": "stream",
     "text": [
      "W martix:\n",
      "[[ 4.31664167e-01  7.68422634e-03 -1.85167363e+02  5.68918068e+03]\n",
      " [-7.04784761e-03  4.40056652e-01 -2.03503439e+02  6.26853739e+02]\n",
      " [-1.10334002e-05  1.07008204e-05  1.00143929e+00  6.93464733e-01]\n",
      " [ 0.00000000e+00  0.00000000e+00  0.00000000e+00  1.00000000e+00]]\n"
     ]
    },
    {
     "data": {
      "text/plain": [
       "True"
      ]
     },
     "execution_count": 38,
     "metadata": {},
     "output_type": "execute_result"
    }
   ],
   "source": [
    "pose_id = 0\n",
    "#  Note: In the 3d reconstruction, images are usually scaled\n",
    "#  Therefore, K matrix needs to be scaled too if scaled images are used \n",
    "scale_factor = 1 \n",
    "K_homo = calibrator.visual_K_homo.copy()\n",
    "K_homo[0] *= scale_factor\n",
    "K_homo[1] *= scale_factor\n",
    "\n",
    "W = calculate_W_L_to_R(K_homo, calibrator.visual_Rt[pose_id], calibrator.thermal_K_homo, calibrator.thermal_Rt[pose_id]);\n",
    "print(\"W martix:\")\n",
    "print(W)\n",
    "\n",
    "z = np.array(calibrator.visual_Rt[pose_id])[2][3]\n",
    "thermal = cv2.imread(\"1.jpg\")\n",
    "visual = cv2.imread(\"2.jpg\")\n",
    "(height, width, c) = visual.shape\n",
    "\n",
    "\n",
    "#  z_R * [u_R, v_R, 1, 1/z_R]^T = W * z_L * [u_L, v_L, 1, 1/z_L]^T\n",
    "visual_image_pos = np.zeros((4, width * height), np.float32)\n",
    "visual_image_pos[0,:] = np.tile(np.arange(width),height)\n",
    "visual_image_pos[1,:] = np.repeat(np.arange(height),width)\n",
    "visual_image_pos[2,:] = 1\n",
    "visual_image_pos[3,:] = 1/z\n",
    "visual_pos_in_thermal = W * visual_image_pos\n",
    "\n",
    "visual_pos_in_thermal = visual_pos_in_thermal / visual_pos_in_thermal[2]\n",
    "\n",
    "x_map = visual_pos_in_thermal[0].reshape(height, width).astype(np.float32)\n",
    "y_map = visual_pos_in_thermal[1].reshape(height, width).astype(np.float32)\n",
    "\n",
    "thermal_mapped = cv2.remap(thermal, x_map, y_map , cv2.INTER_LINEAR)\n",
    "merged = cv2.addWeighted(visual, 0.4, thermal_mapped, 0.8, 0.2)\n",
    "cv2.imwrite(\"merged.jpg\", merged)\n",
    "\n",
    "#  Try using depth map\n",
    "depth_img = cv2.imread(\"smvs-B2.jpg\", cv2.IMREAD_GRAYSCALE)\n",
    "dp_height, dp_width = depth_img.shape\n",
    "\n",
    "depth_img = cv2.resize(depth_img, (width, height))\n",
    "depth_img[depth_img == 0] = 1\n",
    "\n",
    "#  z_R * [u_R, v_R, 1, 1/z_R]^T = W * z_L * [u_L, v_L, 1, 1/z_L]^T\n",
    "visual_image_pos = np.zeros((4, width * height), np.float32)\n",
    "visual_image_pos[0,:] = np.tile(np.arange(width),height)\n",
    "visual_image_pos[1,:] = np.repeat(np.arange(height),width)\n",
    "visual_image_pos[2,:] = 1\n",
    "visual_image_pos[3,:] = 1 / depth_img.reshape(width * height)\n",
    "visual_pos_in_thermal = W * visual_image_pos\n",
    "\n",
    "visual_pos_in_thermal = visual_pos_in_thermal / visual_pos_in_thermal[2]\n",
    "\n",
    "x_map = visual_pos_in_thermal[0].reshape(height, width).astype(np.float32)\n",
    "y_map = visual_pos_in_thermal[1].reshape(height,width).astype(np.float32)\n",
    "\n",
    "thermal_mapped = cv2.remap(thermal, x_map, y_map , cv2.INTER_LINEAR)\n",
    "merged = cv2.addWeighted(visual, 0.4, thermal_mapped, 0.8, 0.2)\n",
    "cv2.imwrite(\"merged-with-dm.jpg\", merged)"
   ]
  },
  {
   "cell_type": "code",
   "execution_count": null,
   "metadata": {},
   "outputs": [],
   "source": []
  },
  {
   "cell_type": "code",
   "execution_count": null,
   "metadata": {},
   "outputs": [],
   "source": []
  }
 ],
 "metadata": {
  "kernelspec": {
   "display_name": "Python 3",
   "language": "python",
   "name": "python3"
  },
  "language_info": {
   "codemirror_mode": {
    "name": "ipython",
    "version": 3
   },
   "file_extension": ".py",
   "mimetype": "text/x-python",
   "name": "python",
   "nbconvert_exporter": "python",
   "pygments_lexer": "ipython3",
   "version": "3.8.3"
  }
 },
 "nbformat": 4,
 "nbformat_minor": 4
}
