{
 "cells": [
  {
   "cell_type": "code",
   "execution_count": 14,
   "metadata": {},
   "outputs": [
    {
     "name": "stdout",
     "output_type": "stream",
     "text": [
      "Copying E:/recon_image/11-7/thermal/4\\2020117191233682temp.jpg to E:/normal-img/scene/views\\view_0000.mve\\thermal.jpg\n",
      "Copying E:/recon_image/11-7/thermal/4\\2020117191255504temp.jpg to E:/normal-img/scene/views\\view_0001.mve\\thermal.jpg\n",
      "Copying E:/recon_image/11-7/thermal/4\\202011719138819temp.jpg to E:/normal-img/scene/views\\view_0002.mve\\thermal.jpg\n",
      "Copying E:/recon_image/11-7/thermal/4\\2020117191322238temp.jpg to E:/normal-img/scene/views\\view_0003.mve\\thermal.jpg\n",
      "Copying E:/recon_image/11-7/thermal/4\\2020117191337515temp.jpg to E:/normal-img/scene/views\\view_0004.mve\\thermal.jpg\n",
      "Copying E:/recon_image/11-7/thermal/4\\2020117191352465temp.jpg to E:/normal-img/scene/views\\view_0005.mve\\thermal.jpg\n",
      "Copying E:/recon_image/11-7/thermal/4\\2020117191417112temp.jpg to E:/normal-img/scene/views\\view_0006.mve\\thermal.jpg\n",
      "Copying E:/recon_image/11-7/thermal/4\\2020117191449150temp.jpg to E:/normal-img/scene/views\\view_0007.mve\\thermal.jpg\n",
      "Copying E:/recon_image/11-7/thermal/4\\202011719155759temp.jpg to E:/normal-img/scene/views\\view_0008.mve\\thermal.jpg\n",
      "Copying E:/recon_image/11-7/thermal/4\\2020117191529994temp.jpg to E:/normal-img/scene/views\\view_0009.mve\\thermal.jpg\n",
      "Copying E:/recon_image/11-7/thermal/4\\2020117191551652temp.jpg to E:/normal-img/scene/views\\view_0010.mve\\thermal.jpg\n",
      "Copying E:/recon_image/11-7/thermal/4\\2020117191721584temp.jpg to E:/normal-img/scene/views\\view_0012.mve\\thermal.jpg\n",
      "Copying E:/recon_image/11-7/thermal/4\\2020117191745795temp.jpg to E:/normal-img/scene/views\\view_0013.mve\\thermal.jpg\n",
      "Copying E:/recon_image/11-7/thermal/4\\2020117191810127temp.jpg to E:/normal-img/scene/views\\view_0014.mve\\thermal.jpg\n",
      "Copying E:/recon_image/11-7/thermal/4\\202011719195167temp.jpg to E:/normal-img/scene/views\\view_0015.mve\\thermal.jpg\n",
      "Copying E:/recon_image/11-7/thermal/4\\2020117191925302temp.jpg to E:/normal-img/scene/views\\view_0016.mve\\thermal.jpg\n",
      "Copying E:/recon_image/11-7/thermal/4\\2020117192152842temp.jpg to E:/normal-img/scene/views\\view_0017.mve\\thermal.jpg\n",
      "Copying E:/recon_image/11-7/thermal/4\\202011719227894temp.jpg to E:/normal-img/scene/views\\view_0018.mve\\thermal.jpg\n",
      "Copying E:/recon_image/11-7/thermal/4\\2020117192223287temp.jpg to E:/normal-img/scene/views\\view_0019.mve\\thermal.jpg\n",
      "Copying E:/recon_image/11-7/thermal/4\\2020117192240435temp.jpg to E:/normal-img/scene/views\\view_0020.mve\\thermal.jpg\n",
      "Copying E:/recon_image/11-7/thermal/4\\2020117192257535temp.jpg to E:/normal-img/scene/views\\view_0021.mve\\thermal.jpg\n",
      "Copying E:/recon_image/11-7/thermal/4\\2020117192316569temp.jpg to E:/normal-img/scene/views\\view_0022.mve\\thermal.jpg\n",
      "Copying E:/recon_image/11-7/thermal/4\\2020117192345957temp.jpg to E:/normal-img/scene/views\\view_0023.mve\\thermal.jpg\n",
      "Copying E:/recon_image/11-7/thermal/4\\2020117192412221temp.jpg to E:/normal-img/scene/views\\view_0024.mve\\thermal.jpg\n",
      "Copying E:/recon_image/11-7/thermal/4\\2020117192436820temp.jpg to E:/normal-img/scene/views\\view_0025.mve\\thermal.jpg\n",
      "Copying E:/recon_image/11-7/thermal/4\\2020117192452149temp.jpg to E:/normal-img/scene/views\\view_0026.mve\\thermal.jpg\n",
      "Copying E:/recon_image/11-7/thermal/4\\202011719258567temp.jpg to E:/normal-img/scene/views\\view_0027.mve\\thermal.jpg\n",
      "Copying E:/recon_image/11-7/thermal/4\\2020117192528170temp.jpg to E:/normal-img/scene/views\\view_0028.mve\\thermal.jpg\n",
      "Copying E:/recon_image/11-7/thermal/4\\2020117192559468temp.jpg to E:/normal-img/scene/views\\view_0029.mve\\thermal.jpg\n",
      "Copying E:/recon_image/11-7/thermal/4\\2020117192759858temp.jpg to E:/normal-img/scene/views\\view_0030.mve\\thermal.jpg\n",
      "Copying E:/recon_image/11-7/thermal/4\\2020117192813430temp.jpg to E:/normal-img/scene/views\\view_0031.mve\\thermal.jpg\n",
      "Copying E:/recon_image/11-7/thermal/4\\2020117192827841temp.jpg to E:/normal-img/scene/views\\view_0032.mve\\thermal.jpg\n",
      "Copying E:/recon_image/11-7/thermal/4\\202011719284694temp.jpg to E:/normal-img/scene/views\\view_0033.mve\\thermal.jpg\n",
      "Copying E:/recon_image/11-7/thermal/4\\20201171929483temp.jpg to E:/normal-img/scene/views\\view_0034.mve\\thermal.jpg\n",
      "Copying E:/recon_image/11-7/thermal/4\\2020117192917646temp.jpg to E:/normal-img/scene/views\\view_0035.mve\\thermal.jpg\n",
      "Copying E:/recon_image/11-7/thermal/4\\2020117192948262temp.jpg to E:/normal-img/scene/views\\view_0036.mve\\thermal.jpg\n",
      "Copying E:/recon_image/11-7/thermal/4\\202011719300330temp.jpg to E:/normal-img/scene/views\\view_0037.mve\\thermal.jpg\n",
      "Copying E:/recon_image/11-7/thermal/4\\2020117193013715temp.jpg to E:/normal-img/scene/views\\view_0038.mve\\thermal.jpg\n",
      "Copying E:/recon_image/11-7/thermal/4\\2020117193027861temp.jpg to E:/normal-img/scene/views\\view_0039.mve\\thermal.jpg\n",
      "Copying E:/recon_image/11-7/thermal/4\\2020117193041226temp.jpg to E:/normal-img/scene/views\\view_0040.mve\\thermal.jpg\n",
      "Copying E:/recon_image/11-7/thermal/4\\2020117193056274temp.jpg to E:/normal-img/scene/views\\view_0041.mve\\thermal.jpg\n",
      "Copying E:/recon_image/11-7/thermal/4\\2020117193257995temp.jpg to E:/normal-img/scene/views\\view_0042.mve\\thermal.jpg\n",
      "Copying E:/recon_image/11-7/thermal/4\\202011719334695temp.jpg to E:/normal-img/scene/views\\view_0043.mve\\thermal.jpg\n",
      "Copying E:/recon_image/11-7/thermal/4\\202011719351842temp.jpg to E:/normal-img/scene/views\\view_0044.mve\\thermal.jpg\n",
      "Copying E:/recon_image/11-7/thermal/4\\2020117193524979temp.jpg to E:/normal-img/scene/views\\view_0045.mve\\thermal.jpg\n",
      "Copying E:/recon_image/11-7/thermal/4\\2020117193544228temp.jpg to E:/normal-img/scene/views\\view_0046.mve\\thermal.jpg\n",
      "Running thermal images calibration...\n",
      "Done!\n",
      "Running visual images calibration...\n",
      "Done!\n",
      "thermal K (homogeneous):\n",
      "[[1.18278587e+03 0.00000000e+00 3.25845282e+02 0.00000000e+00]\n",
      " [0.00000000e+00 1.18488509e+03 2.92832696e+02 0.00000000e+00]\n",
      " [0.00000000e+00 0.00000000e+00 1.00000000e+00 0.00000000e+00]\n",
      " [0.00000000e+00 0.00000000e+00 0.00000000e+00 1.00000000e+00]]\n",
      "visual K (homogeneous):\n",
      "[[679.51382747   0.         310.82507954   0.        ]\n",
      " [  0.         678.26769987 267.96149053   0.        ]\n",
      " [  0.           0.           1.           0.        ]\n",
      " [  0.           0.           0.           1.        ]]\n",
      "thermal Rt[0]:\n",
      "[[ 9.38271289e-01  6.33995685e-03  3.45842149e-01 -4.25791619e+00]\n",
      " [ 4.41330768e-02  9.89466303e-01 -1.37872069e-01 -5.51787964e+00]\n",
      " [-3.43073256e-01  1.44624482e-01  9.28108022e-01  4.30063772e+01]\n",
      " [ 0.00000000e+00  0.00000000e+00  0.00000000e+00  1.00000000e+00]]\n",
      "visual Rt[0]:\n",
      "[[ 9.47708975e-01 -6.65452286e-03  3.19066476e-01 -1.00891499e+01]\n",
      " [ 4.31868629e-02  9.93260119e-01 -1.07560361e-01 -4.73086210e+00]\n",
      " [-3.16200243e-01  1.15715400e-01  9.41608917e-01  4.21844889e+01]\n",
      " [ 0.00000000e+00  0.00000000e+00  0.00000000e+00  1.00000000e+00]]\n",
      "W martix:\n",
      "[[ 1.72541664e+00  3.07091189e-02 -1.83841030e+02  5.68918068e+03]\n",
      " [-2.81711443e-02  1.75863535e+00 -2.04605743e+02  6.26853739e+02]\n",
      " [-4.41019053e-05  4.27645871e-05  1.00137863e+00  6.93464733e-01]\n",
      " [ 0.00000000e+00  0.00000000e+00  0.00000000e+00  1.00000000e+00]]\n"
     ]
    }
   ],
   "source": [
    "import img_glob\n",
    "import matching\n",
    "import os\n",
    "import shutil\n",
    "import re\n",
    "\n",
    "mve_dir = \"E:/normal-img/scene/views\"\n",
    "thermal_dir = \"E:/recon_image/11-7/thermal/4\"\n",
    "sclae_factor = 2\n",
    "\n",
    "mve_entris = img_glob.get_mve_views_entries(mve_dir)\n",
    "\n",
    "thermal_images_list = img_glob.search_files_by_time(thermal_dir, \"*.jpg\")\n",
    "\n",
    "for idx, name in enumerate(thermal_images_list):\n",
    "    for filename in os.listdir(mve_entris[idx]):\n",
    "        if re.search(\"smvs-B[0-9].mvei\", filename):\n",
    "            dst_file_name = os.path.join(mve_entris[idx], \"thermal.jpg\")\n",
    "            shutil.copyfile(name, dst_file_name)\n",
    "            print(\"Copying \" + name + \" to \" + dst_file_name)\n",
    "            break\n",
    "\n",
    "\n",
    "matcher = matching.Matching(2**sclae_factor)"
   ]
  },
  {
   "cell_type": "code",
   "execution_count": 2,
   "metadata": {},
   "outputs": [],
   "source": [
    "for mve_view_dir in mve_entris:\n",
    "    for filename in os.listdir(mve_view_dir):\n",
    "        if re.search(\"smvs-B[0-9].mvei\", filename):\n",
    "            dm_name = os.path.join(mve_view_dir, filename)\n",
    "            visual_name = os.path.join(mve_view_dir, \"undist-L2.png\")\n",
    "            thermal_name = os.path.join(mve_view_dir, \"thermal.jpg\")\n",
    "            output_name = os.path.join(mve_view_dir, \"merged.jpg\")\n",
    "            matcher.match_thermal_to_visual(visual_name, thermal_name, dm_name, output_name, 3.818038039)\n",
    "            break\n"
   ]
  },
  {
   "cell_type": "code",
   "execution_count": 33,
   "metadata": {},
   "outputs": [
    {
     "name": "stdout",
     "output_type": "stream",
     "text": [
      "b'\\x89MVE_IMAGE\\n'\n",
      "(613, 513, 1, 9)\n"
     ]
    }
   ],
   "source": [
    "import struct\n",
    "with open(\"E:/normal-img/scene/views/view_0001.mve/smvs-B2.mvei\", \"rb\") as file:\n",
    "    print(file.read(11)) #mvei signature\n",
    "    # Do stuff with byte.\n",
    "    header = struct.unpack('i' * 4, file.read(4 * 4))\n",
    "    print(header)\n",
    "    n =  header[0] * header[1]\n",
    "    temp = struct.unpack('f' * n, file.read(n * 4))\n"
   ]
  },
  {
   "cell_type": "code",
   "execution_count": 36,
   "metadata": {},
   "outputs": [
    {
     "name": "stdout",
     "output_type": "stream",
     "text": [
      "[[  0.   1.   2. ... 610. 611. 612.]\n",
      " [  0.   0.   0. ... 512. 512. 512.]\n",
      " [  0.   0.   0. ...   0.   0.   0.]\n",
      " [  0.   0.   0. ...   0.   0.   0.]]\n"
     ]
    }
   ],
   "source": []
  },
  {
   "cell_type": "code",
   "execution_count": 13,
   "metadata": {},
   "outputs": [
    {
     "name": "stdout",
     "output_type": "stream",
     "text": [
      "613\n",
      "513\n",
      "[[0. 0. 0. ... 0. 0. 0.]\n",
      " [0. 0. 0. ... 0. 0. 0.]\n",
      " [0. 0. 0. ... 0. 0. 0.]\n",
      " ...\n",
      " [0. 0. 0. ... 0. 0. 0.]\n",
      " [0. 0. 0. ... 0. 0. 0.]\n",
      " [0. 0. 0. ... 0. 0. 0.]]\n",
      "(513, 613)\n"
     ]
    }
   ],
   "source": [
    "\n"
   ]
  },
  {
   "cell_type": "code",
   "execution_count": null,
   "metadata": {},
   "outputs": [],
   "source": []
  }
 ],
 "metadata": {
  "kernelspec": {
   "display_name": "Python 3",
   "language": "python",
   "name": "python3"
  },
  "language_info": {
   "codemirror_mode": {
    "name": "ipython",
    "version": 3
   },
   "file_extension": ".py",
   "mimetype": "text/x-python",
   "name": "python",
   "nbconvert_exporter": "python",
   "pygments_lexer": "ipython3",
   "version": "3.8.3"
  }
 },
 "nbformat": 4,
 "nbformat_minor": 4
}
